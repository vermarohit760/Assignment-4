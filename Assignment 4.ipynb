{
 "cells": [
  {
   "cell_type": "code",
   "execution_count": null,
   "id": "18483517",
   "metadata": {},
   "outputs": [],
   "source": [
    "import math\n",
    "class Complex(object):\n",
    "    def __init__(self, real, imaginary):\n",
    "        self.real = real if real else 0.0\n",
    "        self.imag = imaginary if imaginary else 0.0\n",
    "        \n",
    "    def __add__(self, no):\n",
    "        return Complex(self.real + no.real, self.imag + no.imag)\n",
    "        \n",
    "    def __sub__(self, no):\n",
    "        return Complex(self.real - no.real, self.imag - no.imag)\n",
    "        \n",
    "    def __mul__(self, no):\n",
    "        return Complex(\n",
    "    self.real * no.real + self.imag * no.imag * -1,\n",
    "    self.real * no.imag + self.imag * no.real\n",
    "    )\n",
    "\n",
    "    def __truediv__(self, no):\n",
    "        n = self.__mul__(Complex(no.real, -no.imag))\n",
    "        return n.__mul__(complex(1.0/(no.mod().real)**2, 0))        \n",
    "\n",
    "    def mod(self):\n",
    "        return Complex(math.pow(self.real**2 + self.imag**2, 0.5), 0)\n",
    "\n",
    "    def __str__(self):\n",
    "        if self.imag >= 0:\n",
    "            return f\"{self.real:.2f}+{self.imag:.2f}i\"\n",
    "        return f\"{self.real:.2f}{self.imag:.2f}i\"\n",
    "if __name__ == '__main__':\n",
    "    c = map(float, input().split())\n",
    "    d = map(float, input().split())\n",
    "    x = Complex(*c)\n",
    "    y = Complex(*d)\n",
    "    print(*map(str, [x+y, x-y, x*y, x/y, x.mod(), y.mod()]), sep='\\n')"
   ]
  },
  {
   "cell_type": "code",
   "execution_count": null,
   "id": "82324e47",
   "metadata": {},
   "outputs": [],
   "source": [
    "import math\n",
    "class Points(object):\n",
    "    def __init__(self, x, y, z):\n",
    "        self.x=x\n",
    "        self.y=y\n",
    "        self.z=z\n",
    "\n",
    "    def __sub__(self, no):\n",
    "        return  Points((self.x-no.x),(self.y-no.y),(self.z-no.z))\n",
    "\n",
    "    def dot(self, no):\n",
    "        return (self.x*no.x)+(self.y*no.y)+(self.z*no.z)\n",
    "\n",
    "    def cross(self, no):\n",
    "        return Points((self.y*no.z-self.z*no.y),(self.z*no.x-self.x*no.z),(self.x*no.y-self.y*no.x))\n",
    "        \n",
    "    def absolute(self):\n",
    "        return pow((self.x ** 2 + self.y ** 2 + self.z ** 2), 0.5)\n",
    "if __name__ == '__main__':\n",
    "    points = list()\n",
    "    for i in range(4):\n",
    "        a = list(map(float, input().split()))\n",
    "        points.append(a)\n",
    "\n",
    "    a, b, c, d = Points(*points[0]), Points(*points[1]), Points(*points[2]), Points(*points[3])\n",
    "    x = (b - a).cross(c - b)\n",
    "    y = (c - b).cross(d - c)\n",
    "    angle = math.acos(x.dot(y) / (x.absolute() * y.absolute()))\n",
    "\n",
    "    print(\"%.2f\" % math.degrees(angle))"
   ]
  }
 ],
 "metadata": {
  "kernelspec": {
   "display_name": "Python 3 (ipykernel)",
   "language": "python",
   "name": "python3"
  },
  "language_info": {
   "codemirror_mode": {
    "name": "ipython",
    "version": 3
   },
   "file_extension": ".py",
   "mimetype": "text/x-python",
   "name": "python",
   "nbconvert_exporter": "python",
   "pygments_lexer": "ipython3",
   "version": "3.9.6"
  }
 },
 "nbformat": 4,
 "nbformat_minor": 5
}
